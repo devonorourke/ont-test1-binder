{
 "cells": [
  {
   "cell_type": "markdown",
   "id": "1157596f-1284-488d-aea9-74395728f42b",
   "metadata": {},
   "source": [
    "# Preamble for Trainer\n",
    "Welcome to this test notebook!  \n",
    "The goal is to demonstrate how we may incorporate a tool like Binder to host a series of Jupyter Notebooks, building up a series of learning modules for training purposes.  \n",
    "A few notes of interest:\n",
    "- This notebook is built with a backend supported by Binder. [Click here](https://mybinder.org/) for more background on Binder.  \n",
    "- Raw data used in this demo .ipynb was collected from the Oxford Nanopore [AWS Open Data Registry](https://registry.opendata.aws/ont-open-data/). During the construction of this Binder object only a subset of the original data in the S3 bucket was retained. \n"
   ]
  },
  {
   "cell_type": "markdown",
   "id": "9bae0273-c244-4fd0-8b69-7cb1654c4a04",
   "metadata": {},
   "source": [
    "# Preamble for Trainee\n",
    "Welcome to this test notebook!\n",
    "We hope this interactive notebook will help with your continued learning of bioinformatic techniques. \n",
    "All the information presented in this document will be in a box like this one. There are three different forms these boxes can take:\n",
    "- Code: A box where you can enter in command-line arguments, just like in your Terminal (or PowerShell).  \n",
    "- Markdown: Instead of entering in computer commands, another kind of box is like this one, where we enter in text to give instructions. It turns out this text box type is called \"Markdown\" because you can enter specific characters to make the text appear nicely formatted (the style itself is called Markdown, hence the name of this kind of box). You can use the syntax of Markdown to fancy up with special characters to make something look **bold** or _italicized_, or write out hyperlinks [like this one to learn more about Markdown](https://jupyter-notebook.readthedocs.io/en/stable/examples/Notebook/Working%20With%20Markdown%20Cells.html)!\n",
    "- Raw: A second kind of free text box, where everything is plain and without any fancy changes. We often use this \"Raw\" text box when providing you with example code, as it ensures whatever you highlight and copy with your cursor is pasted without any changes in the \"Code\" box."
   ]
  },
  {
   "cell_type": "markdown",
   "id": "2f27f42a-6d00-4651-a99f-c6491b2fb73a",
   "metadata": {},
   "source": [
    "# Getting started\n",
    "## Surfing the file system\n",
    "In the next texbox, click \"Run\" to enter a few different commands to communicate with the computer's operating system (OS). What happens when each is executed? Can you infer what action each program is requesting the computer to complete?\n",
    "1. `ls`\n",
    "2. `cd`\n",
    "3. `pwd`"
   ]
  },
  {
   "cell_type": "code",
   "execution_count": null,
   "id": "add90815-1cba-448a-aa07-c885afee33f5",
   "metadata": {},
   "outputs": [],
   "source": [
    "ls"
   ]
  },
  {
   "cell_type": "code",
   "execution_count": null,
   "id": "8d25bca3-57cf-4025-a7fb-81f2691252e9",
   "metadata": {},
   "outputs": [],
   "source": [
    "cd"
   ]
  },
  {
   "cell_type": "code",
   "execution_count": null,
   "id": "6ca07f27-7a8d-4273-9382-76a353ffe27a",
   "metadata": {},
   "outputs": [],
   "source": [
    "pwd"
   ]
  }
 ],
 "metadata": {
  "kernelspec": {
   "display_name": "Python 3 (ipykernel)",
   "language": "python",
   "name": "python3"
  },
  "language_info": {
   "codemirror_mode": {
    "name": "ipython",
    "version": 3
   },
   "file_extension": ".py",
   "mimetype": "text/x-python",
   "name": "python",
   "nbconvert_exporter": "python",
   "pygments_lexer": "ipython3",
   "version": "3.11.7"
  }
 },
 "nbformat": 4,
 "nbformat_minor": 5
}
