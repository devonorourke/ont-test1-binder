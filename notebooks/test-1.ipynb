{
 "cells": [
  {
   "cell_type": "markdown",
   "metadata": {},
   "source": [
    "# Preamble for Trainer\n",
    "Welcome to this test notebook!  \n",
    "The goal is to demonstrate how we may incorporate a tool like Binder to host a series of Jupyter Notebooks, building up a series of learning modules for training purposes.  \n",
    "A few notes of interest:\n",
    "- This notebook is built with a backend supported by Binder. [Click here](https://mybinder.org/) for more background on Binder.  \n",
    "- Raw data used in this demo .ipynb was collected from the Oxford Nanopore [AWS Open Data Registry](https://registry.opendata.aws/ont-open-data/). During the construction of this Binder object only a subset of the original data in the S3 bucket was retained. \n"
   ]
  }
}
